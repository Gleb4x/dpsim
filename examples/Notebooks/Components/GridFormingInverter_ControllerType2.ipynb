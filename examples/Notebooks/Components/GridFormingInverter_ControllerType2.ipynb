{
 "cells": [
  {
   "cell_type": "markdown",
   "metadata": {},
   "source": [
    "## Grid Forming Inverter Test"
   ]
  },
  {
   "cell_type": "code",
   "execution_count": 1,
   "metadata": {},
   "outputs": [],
   "source": [
    "import sys, os\n",
    "\n",
    "notebook_dir = os.path.abspath('')\n",
    "dpsim_root_dir = os.path.join(notebook_dir, \"../../..\")\n",
    "\n",
    "sys.path.insert(0, os.path.join(dpsim_root_dir, 'python/src/dpsim'))\n",
    "sys.path.insert(0, os.path.join(dpsim_root_dir, 'build'))\n",
    "\n",
    "import dpsimpy\n",
    "\n",
    "import matplotlib.pyplot as plt\n",
    "import numpy as np\n",
    "from villas.dataprocessing.readtools import *\n",
    "from villas.dataprocessing.timeseries import *\n",
    "\n",
    "#%matplotlib widget"
   ]
  },
  {
   "cell_type": "markdown",
   "metadata": {},
   "source": [
    "### Parameterization"
   ]
  },
  {
   "cell_type": "code",
   "execution_count": 2,
   "metadata": {},
   "outputs": [],
   "source": [
    "# Yazdani\n",
    "\n",
    "nominal_frequency = 60\n",
    "nominal_omega = 2 * np.pi * nominal_frequency\n",
    "nominal_voltage = 400\n",
    "\n",
    "# Line parameters (R/X = 1)\n",
    "length = 5\n",
    "line_resistance = 0.5 * length\n",
    "line_inductance = 0.5 / nominal_frequency * length\n",
    "line_capacitance = 50e-6 / nominal_frequency * length\n",
    "line_resistance = 0.88e-3\n",
    "line_inductance = 0\n",
    "\n",
    "# VSI nominal values\n",
    "vsi_nominal_voltage = 400\n",
    "vsi_nominal_activePower = 900e6\n",
    "vsi_nominal_reactivePower = 900e6\n",
    "vsi_nominal_apparentPower = np.sqrt(vsi_nominal_activePower**2 + vsi_nominal_reactivePower**2)\n",
    "\n",
    "# Droop controller parameters\n",
    "        \n",
    "# VSI filter parameters \n",
    "Lf = 100e-6\n",
    "Cf = 2.5e-3\n",
    "Rf = 2.07e-3\n",
    "tau = 0.5e-3\n",
    "Rc = 1e-5 #connecting resistor to external network\n",
    "        \n",
    "# Load Parameters\n",
    "loadRes1 = 83e-3\n",
    "loadInd1 = 137e-6\n",
    "load1_s = nominal_voltage**2 / complex(loadRes1, 0-loadInd1 * nominal_omega)\n",
    "\n",
    "# Switch Parameters\n",
    "switch_open = 1e15\n",
    "switch_closed = 0.25\n",
    "\n",
    "# VSI Voltage controller parameters\n",
    "controller_parameters = dpsimpy.signal.VSIControlType2Parameters()\n",
    "controller_parameters.VdRef = nominal_voltage\n",
    "controller_parameters.VqRef = 0\n",
    "controller_parameters.Kpv = 1.6725\n",
    "controller_parameters.Kiv = 374.64\n",
    "controller_parameters.Kpc = 0.2\n",
    "controller_parameters.Kic = 4.14\n",
    "controller_parameters.Cf = Cf\n",
    "controller_parameters.Lf = Lf\n",
    "controller_parameters.omegaNom = nominal_omega\n",
    "controller_parameters.tau = 0.001\n",
    "\n",
    "'''\n",
    "#DC Link source parameters\n",
    "#Capacitance in pu\n",
    "Cdc_pu=0.1\n",
    "# Proportional coefficient K_p in pu\n",
    "K_p_dc_pu=1.2\n",
    "# Integral coefficient K_i in pu/s\n",
    "K_i_dc_pu=2.4\n",
    "#parametrisation of DC link&source and conversion from pu\n",
    "dclink_parameters = dpsimpy.signal.DCLinkSourceParameters()\n",
    "dclink_parameters.Kpdc=K_p_dc_pu*vsi_nominal_apparentPower/(vsi_nominal_voltage**2)\n",
    "dclink_parameters.Kidc=K_i_dc_pu*vsi_nominal_apparentPower/(vsi_nominal_voltage**2)\n",
    "dclink_parameters.Cdc=Cdc_pu*vsi_nominal_apparentPower/(nominal_omega*vsi_nominal_voltage**2)\n",
    "dclink_parameters.Vdcnom=2*vsi_nominal_voltage\n",
    "'''\n",
    "\n",
    "#parametrisation of DC link&source and conversion from pu\n",
    "dclink_parameters = dpsimpy.signal.DCLinkSourceParameters()\n",
    "dclink_parameters.Kpdc=9.545942e+03\n",
    "dclink_parameters.Kidc=1.909188e+03\n",
    "dclink_parameters.Cdc=0.01\n",
    "dclink_parameters.Vdcnom=800"
   ]
  },
  {
   "cell_type": "markdown",
   "metadata": {},
   "source": [
    "### PF for initialization"
   ]
  },
  {
   "cell_type": "code",
   "execution_count": 3,
   "metadata": {},
   "outputs": [
    {
     "name": "stderr",
     "output_type": "stream",
     "text": [
      "[12:02:47.958004 GridFormingInverter_Line_Load_PF info] Initialize simulation: GridFormingInverter_Line_Load_PF\n",
      "[12:02:47.958380 GridFormingInverter_Line_Load_PF info] Scheduling tasks.\n",
      "[12:02:47.958455 GridFormingInverter_Line_Load_PF info] Scheduling done.\n",
      "[12:02:47.958456 GridFormingInverter_Line_Load_PF info] Opening interfaces.\n",
      "[12:02:47.958457 GridFormingInverter_Line_Load_PF info] Start synchronization with remotes on interfaces\n",
      "[12:02:47.958458 GridFormingInverter_Line_Load_PF info] Synchronized simulation start with remotes\n",
      "[12:02:47.958460 GridFormingInverter_Line_Load_PF info] Start simulation: GridFormingInverter_Line_Load_PF\n",
      "[12:02:47.958463 GridFormingInverter_Line_Load_PF info] Time step: 1.000000e-01\n",
      "[12:02:47.958464 GridFormingInverter_Line_Load_PF info] Final time: 2.000000e-01\n",
      "[12:02:47.958601 GridFormingInverter_Line_Load_PF info] Simulation calculation time: 0.000135\n",
      "[12:02:47.958625 GridFormingInverter_Line_Load_PF info] Simulation finished.\n"
     ]
    }
   ],
   "source": [
    "sim_name_pf = \"GridFormingInverter_Line_Load_PF\"\n",
    "dpsimpy.Logger.set_log_dir(\"logs/\" + sim_name_pf)\n",
    "\n",
    "### Nodes\n",
    "gnd_pf = dpsimpy.sp.SimNode.gnd\n",
    "n1_pf  = dpsimpy.sp.SimNode('n1', dpsimpy.PhaseType.Single)\n",
    "n2_pf  = dpsimpy.sp.SimNode('n2', dpsimpy.PhaseType.Single)\n",
    "\n",
    "### Components\n",
    "\n",
    "# inverter as synchron generator\n",
    "gen_pf = dpsimpy.sp.ph1.SynchronGenerator('VSI', dpsimpy.LogLevel.info)\n",
    "gen_pf.set_parameters(rated_apparent_power = vsi_nominal_apparentPower, rated_voltage = vsi_nominal_voltage, \n",
    "                      set_point_active_power = 1.0, set_point_voltage = vsi_nominal_voltage, \n",
    "                      powerflow_bus_type=dpsimpy.PowerflowBusType.VD)\n",
    "gen_pf.set_base_voltage(nominal_voltage)\n",
    "gen_pf.modify_power_flow_bus_type(dpsimpy.PowerflowBusType.VD)\n",
    "\n",
    "# PiLine\n",
    "pi_line_pf = dpsimpy.sp.ph1.PiLine('PiLine', dpsimpy.LogLevel.info)\n",
    "pi_line_pf.set_parameters(R=line_resistance, L=1e-9, C=0, G=0)\n",
    "pi_line_pf.set_base_voltage(nominal_voltage)\n",
    "\n",
    "# Load\n",
    "load1_pf = dpsimpy.sp.ph1.Load('Load1', dpsimpy.LogLevel.info)\n",
    "load1_pf.set_parameters(load1_s.real, load1_s.imag, vsi_nominal_voltage)\n",
    "\n",
    "### Connections\n",
    "gen_pf.connect([n1_pf])\n",
    "pi_line_pf.connect([n2_pf, n1_pf])\n",
    "load1_pf.connect([n2_pf])\n",
    "    \n",
    "### Define system topology\n",
    "system_pf = dpsimpy.SystemTopology(nominal_frequency, [n1_pf, n2_pf], [gen_pf, pi_line_pf, load1_pf])\n",
    "\n",
    "# Logging\n",
    "logger_pf = dpsimpy.Logger(sim_name_pf)\n",
    "logger_pf.log_attribute('n1.v', 'v', n1_pf)\n",
    "logger_pf.log_attribute('n2.v', 'v', n2_pf)\n",
    "\n",
    "sim_pf = dpsimpy.Simulation(sim_name_pf, dpsimpy.LogLevel.info)\n",
    "sim_pf.set_system(system_pf)\n",
    "sim_pf.set_domain(dpsimpy.Domain.SP)\n",
    "sim_pf.set_solver(dpsimpy.Solver.NRP)\n",
    "sim_pf.set_solver_component_behaviour(dpsimpy.SolverBehaviour.Initialization)\n",
    "sim_pf.set_time_step(0.1)\n",
    "sim_pf.set_final_time(0.2)\n",
    "sim_pf.add_logger(logger_pf)\n",
    "sim_pf.run()"
   ]
  },
  {
   "cell_type": "markdown",
   "metadata": {},
   "source": [
    "### Function for Dynamic Simulations"
   ]
  },
  {
   "cell_type": "code",
   "execution_count": 4,
   "metadata": {},
   "outputs": [],
   "source": [
    "def gridFormingInverter_Line_Load(domain, system_pf, final_time=5, model_as_current_source=False, time_step=0.001):\n",
    "    \n",
    "    # get the correct module to be used (dpsimpy.sp, dpsimpy.dp or dpsimpy.emt) \n",
    "    dpsimpy_components = None\n",
    "    if domain==\"EMT\":\n",
    "        dpsimpy_components = dpsimpy.emt.ph3\n",
    "        dpsimpy_components.SimNode = getattr(dpsimpy.emt, \"SimNode\")\n",
    "    elif domain==\"SP\":\n",
    "        dpsimpy_components = dpsimpy.sp.ph1\n",
    "        dpsimpy_components.SimNode = getattr(dpsimpy.sp, \"SimNode\")\n",
    "    else:\n",
    "        domain = \"DP\"\n",
    "        dpsimpy_components = dpsimpy.dp.ph1\n",
    "        dpsimpy_components.SimNode = getattr(dpsimpy.dp, \"SimNode\") \n",
    "            \n",
    "    name = \"GridFormingInverter_Line_Load_\" + domain\n",
    "    dpsimpy.Logger.set_log_dir(\"logs/\" + name)\n",
    "\n",
    "    ### Nodes\n",
    "    n1 = None\n",
    "    n2 = None\n",
    "    if (domain == \"EMT\"):      \n",
    "        n1 = dpsimpy_components.SimNode('n1', dpsimpy.PhaseType.ABC)\n",
    "        n2 = dpsimpy_components.SimNode('n2', dpsimpy.PhaseType.ABC)\n",
    "    else:\n",
    "        n1 = dpsimpy_components.SimNode('n1', dpsimpy.PhaseType.Single)\n",
    "        n2 = dpsimpy_components.SimNode('n2', dpsimpy.PhaseType.Single)\n",
    "\n",
    "    ### Components\n",
    "    log_level = dpsimpy.LogLevel.info\n",
    "    \n",
    "    # voltage source inverter\n",
    "    vsi = dpsimpy_components.VSIVoltageControlDQ(uid=\"VSI\", name=\"VSI\", loglevel=log_level, \n",
    "                                                with_interface_resistor=False,\n",
    "                                                model_as_current_source=model_as_current_source)\n",
    "    vsi.set_parameters(sys_omega=nominal_omega, vdref=vsi_nominal_voltage, vqref=0)\n",
    "    vsi.set_filter_parameters(Lf=Lf, Cf=Cf, Rf=Rf, Rc=Rc)\n",
    "    \n",
    "    # vsi controller\n",
    "    vsi_controller = None\n",
    "    vsi_controller = dpsimpy.signal.VSIControlType2(name=\"VSIController\", loglevel=log_level)\n",
    "    vsi_controller.set_parameters(controller_parameters)\n",
    "    vsi.add_vsi_controller(vsi_controller)\n",
    "\n",
    "    # vsi dc link\n",
    "    dc_link=None\n",
    "    dc_link=dpsimpy.signal.DCLinkSource(name=\"DCLinkSource\", loglevel=log_level)\n",
    "    dc_link.set_parameters(dclink_parameters)\n",
    "    vsi.add_dc_link(dc_link)\n",
    "\n",
    "    # pi line\n",
    "    \"\"\"\n",
    "    pi_line = dpsimpy_components.PiLine('PiLine', log_level)\n",
    "    pi_line.set_parameters(series_resistance=line_resistance,\n",
    "                            series_inductance=1e-9,\n",
    "                            parallel_capacitance=0,\n",
    "                            parallel_conductance=0)\n",
    "    \"\"\"\n",
    "    pi_line = dpsimpy_components.Resistor('Resistor', log_level)\n",
    "    if (domain == \"EMT\"):\n",
    "        pi_line.set_parameters(R=dpsimpy.Math.single_phase_parameter_to_three_phase(line_resistance))\n",
    "    else:\n",
    "        pi_line.set_parameters(R=line_resistance)\n",
    "\n",
    "    # Load 1\n",
    "    load1 = None\n",
    "    if (domain == \"SP\"):\n",
    "        load1 = dpsimpy_components.Load('Load1', log_level)\n",
    "    else:\n",
    "        load1 = dpsimpy_components.RXLoad('Load1', log_level)\n",
    "    load1.set_parameters(active_power=load1_s.real, reactive_power=load1_s.imag)\n",
    "    #load1.set_parameters(active_power=load1_s.real, reactive_power=load1_s.imag, nominal_voltage=nominal_voltage)\n",
    "    \n",
    "    # Switch \n",
    "    switch1 = None\n",
    "    if (domain == \"DP\" or domain == \"SP\"):\n",
    "        switch1 = dpsimpy_components.Switch('switchLoad1', log_level)\n",
    "    elif domain == \"EMT\":\n",
    "        switch1 = dpsimpy_components.SeriesSwitch('switchLoad1', log_level)\n",
    "    switch1.set_parameters(switch_open, switch_closed)\n",
    "    switch1.open()\n",
    "    \n",
    "    ### Connections\n",
    "    vsi.connect([n1])\n",
    "    pi_line.connect([n2, n1])\n",
    "    load1.connect([n2])\n",
    "    switch1.connect([dpsimpy_components.SimNode.gnd, n2])\n",
    "    \n",
    "    ### Define system topology\n",
    "    system = dpsimpy.SystemTopology(nominal_frequency, [n1, n2], \n",
    "                                    [vsi, pi_line, switch1, load1])\n",
    "\n",
    "    # Initialize system using power flow results\n",
    "    if (domain == \"EMT\"):\n",
    "        system.init_with_powerflow(system_pf, dpsimpy.Domain.EMT)\n",
    "    elif (domain == \"SP\"):\n",
    "        system.init_with_powerflow(system_pf, dpsimpy.Domain.SP)\n",
    "    elif (domain == \"DP\"):\n",
    "        system.init_with_powerflow(system_pf, dpsimpy.Domain.DP)\n",
    "   \n",
    "    #n3.set_initial_voltage(complex(390,0))\n",
    "    \n",
    "    ### Logging\n",
    "    logger = dpsimpy.Logger(name)\n",
    "    logger.log_attribute('n1.v', 'v', n1)\n",
    "    logger.log_attribute('n2.v', 'v', n2)\n",
    "    #logger.log_attribute('VSI.I', 'i_intf', vsi)\n",
    "    logger.log_attribute('Vcap_dq', 'Vcap_dq', vsi)\n",
    "    logger.log_attribute('SourceValue_dq', 'SourceValue_dq', vsi)\n",
    "    logger.log_attribute('SourceValue', 'SourceValue', vsi)\n",
    "    logger.log_attribute('Ifilter_dq', 'Ifilter_dq', vsi)\n",
    "    logger.log_attribute('ThetaInv', 'ThetaInv', vsi)\n",
    "    logger.log_attribute('V_DC', 'V_DC', vsi)\n",
    "    logger.log_attribute('PowerPCC', 'PowerPCC', vsi)\n",
    "    logger.log_attribute('PowerSource', 'PowerSource', vsi)\n",
    "\n",
    "    ### Simulation\n",
    "    sim = dpsimpy.Simulation(name, log_level)\n",
    "    sim.set_system(system)\n",
    "    sim.do_init_from_nodes_and_terminals(True)\n",
    "    if (domain == \"EMT\"):\n",
    "        sim.set_domain(dpsimpy.Domain.EMT)\n",
    "    elif (domain == \"SP\"):\n",
    "        sim.set_domain(dpsimpy.Domain.SP)\n",
    "    elif (domain == \"DP\"):\n",
    "        sim.set_domain(dpsimpy.Domain.DP)\n",
    "    sim.set_time_step(time_step)\n",
    "    sim.set_final_time(final_time)\n",
    "    sim.add_logger(logger)\n",
    "    \n",
    "    sw1_close = dpsimpy.event.SwitchEvent(0.3, switch1, True)\n",
    "    sim.add_event(sw1_close)\n",
    "    sw1_open = dpsimpy.event.SwitchEvent(1, switch1, False)\n",
    "    sim.add_event(sw1_open)\n",
    "    \n",
    "    #sim.do_system_matrix_recomputation(True)\n",
    "    sim.run()\n",
    "    \n",
    "    return name"
   ]
  },
  {
   "cell_type": "markdown",
   "metadata": {},
   "source": [
    "### Function to plot results"
   ]
  },
  {
   "cell_type": "code",
   "execution_count": 5,
   "metadata": {},
   "outputs": [],
   "source": [
    "timestep_common = 5e-5\n",
    "t_begin = 0\n",
    "t_end = 1\n",
    "begin_idx = int(t_begin/timestep_common)\n",
    "end_idx = -1\n",
    "#time = np.linspace(t_begin, t_end, num=end_idx-begin_idx)\n",
    "\n",
    "#plot parameters\n",
    "width = 7\n",
    "height = 4\n",
    "    \n",
    "def plot_emt_variable(varname_dpsim_emt, varname_dpsim_dp, varname_simulink, ts_dpsim_emt, ts_dpsim_dp, ts_dpsim_sp, ts_simulink, ylabels, y_lim, x_lim=[0.2, 0.8]):\n",
    "    fig1 = plt.figure(figsize=(width, height))\n",
    "    dpsim_time = ts_dpsim_emt[varname_dpsim_emt].interpolate(timestep_common).time\n",
    "    dpsim_values_emt = ts_dpsim_emt[varname_dpsim_emt].interpolate(timestep_common).values\n",
    "    dpsim_values_dp = np.sqrt(2/3) * ts_dpsim_dp[varname_dpsim_dp].interpolate(timestep_common).frequency_shift(60).values\n",
    "    dpsim_values_sp = np.sqrt(2/3) * ts_dpsim_sp[varname_dpsim_dp].interpolate(timestep_common).frequency_shift(60).values\n",
    "    #time_simulink = ts_simulink[varname_simulink].interpolate(timestep_common).time\n",
    "    #simulink_values = ts_simulink[varname_simulink].interpolate(timestep_common).values\n",
    "    plt.plot(dpsim_time, dpsim_values_emt, label='DPSim - EMT')\n",
    "    plt.plot(dpsim_time, dpsim_values_dp, '--', label='DPSim - DP')\n",
    "    plt.plot(dpsim_time, dpsim_values_sp, '--', label='DPSim - SP')\n",
    "    #plt.plot(time_simulink, simulink_values, '-.', label='Simulink')\n",
    "    plt.legend(loc='lower right')\n",
    "    plt.xlabel('time (s)')\n",
    "    plt.ylabel(ylabels)\n",
    "    plt.grid()\n",
    "    plt.xlim(x_lim)\n",
    "    plt.ylim(y_lim)\n",
    "    plt.show    \n",
    "\n",
    "    #calculate RMSE\n",
    "    #nom_value = nominal_values[varname_dpsim]\n",
    "    #rmse = np.sqrt(((dpsim_values - simulink_values) ** 2).mean())\n",
    "    #print('RMSE {:s}  = {:.6f} (pu), which is {:.3f}% of the nominal value = {:.3f} (pu) '.format(varname_dpsim, rmse, rmse/nom_value*100, nom_value))\n",
    "        \n",
    "    #return rmse/nom_value*100"
   ]
  },
  {
   "cell_type": "markdown",
   "metadata": {},
   "source": [
    "### Read simulink results"
   ]
  },
  {
   "cell_type": "code",
   "execution_count": 6,
   "metadata": {},
   "outputs": [],
   "source": [
    "# read Simulink log file\n",
    "\n",
    "#simulink_log_name = \"Simulink_GridFormingInverter_Load_Fault.csv\"\n",
    "#file_path_simulink = \"/home/mmo/git/inverter/dpsim/examples/Notebooks/Components/ReferenceResults/Simulink_GridFormingInverter_Load_Fault.csv\"\n",
    "#ts_simulink = read_timeseries_dpsim(file_path_simulink)"
   ]
  },
  {
   "cell_type": "markdown",
   "metadata": {},
   "source": [
    "### DP Simulation"
   ]
  },
  {
   "cell_type": "code",
   "execution_count": 7,
   "metadata": {},
   "outputs": [
    {
     "name": "stdout",
     "output_type": "stream",
     "text": [
      "3.000000e-01: Handle event time\n",
      "1.000000e+00: Handle event time\n",
      "column number: 10\n",
      "results length: 20001\n",
      "real column names: ['PowerSource', 'ThetaInv', 'V_DC']\n",
      "complex column names: ['Ifilter_dq', 'PowerPCC', 'SourceValue', 'SourceValue_dq', 'Vcap_dq', 'n1.v', 'n2.v']\n"
     ]
    },
    {
     "name": "stderr",
     "output_type": "stream",
     "text": [
      "[12:02:48.185160 GridFormingInverter_Line_Load_DP info] Initialize simulation: GridFormingInverter_Line_Load_DP\n",
      "[12:02:48.185306 MnaSolverFactory info] creating KLUAdapter solver implementation\n",
      "[12:02:48.187779 GridFormingInverter_Line_Load_DP info] Scheduling tasks.\n",
      "[12:02:48.188172 GridFormingInverter_Line_Load_DP info] Scheduling done.\n",
      "[12:02:48.188178 GridFormingInverter_Line_Load_DP info] Opening interfaces.\n",
      "[12:02:48.188181 GridFormingInverter_Line_Load_DP info] Start synchronization with remotes on interfaces\n",
      "[12:02:48.188184 GridFormingInverter_Line_Load_DP info] Synchronized simulation start with remotes\n",
      "[12:02:48.188188 GridFormingInverter_Line_Load_DP info] Start simulation: GridFormingInverter_Line_Load_DP\n",
      "[12:02:48.188193 GridFormingInverter_Line_Load_DP info] Time step: 1.000000e-04\n",
      "[12:02:48.188198 GridFormingInverter_Line_Load_DP info] Final time: 2.000000e+00\n",
      "[12:02:48.464919 GridFormingInverter_Line_Load_DP info] Simulation calculation time: 0.276655\n",
      "[12:02:48.474174 GridFormingInverter_Line_Load_DP info] Simulation finished.\n"
     ]
    }
   ],
   "source": [
    "log_name = gridFormingInverter_Line_Load(domain=\"DP\", system_pf=system_pf, model_as_current_source=False, final_time=2, time_step=0.0001)\n",
    "file_path = os.getcwd() + \"/logs/\" + log_name + \"/\" + log_name + \".csv\"\n",
    "ts_dpsim_dp = read_timeseries_dpsim(file_path)"
   ]
  },
  {
   "cell_type": "markdown",
   "metadata": {},
   "source": [
    "### EMT Simulation"
   ]
  },
  {
   "cell_type": "code",
   "execution_count": 8,
   "metadata": {},
   "outputs": [
    {
     "name": "stdout",
     "output_type": "stream",
     "text": [
      "3.000000e-01: Handle event time\n",
      "1.000000e+00: Handle event time\n",
      "column number: 14\n",
      "results length: 20001\n",
      "real column names: ['PowerSource', 'ThetaInv', 'V_DC', 'n1.v_0', 'n1.v_1', 'n1.v_2', 'n2.v_0', 'n2.v_1', 'n2.v_2']\n",
      "complex column names: ['Ifilter_dq', 'PowerPCC', 'SourceValue', 'SourceValue_dq', 'Vcap_dq']\n"
     ]
    },
    {
     "name": "stderr",
     "output_type": "stream",
     "text": [
      "[12:02:48.558786 GridFormingInverter_Line_Load_EMT info] Initialize simulation: GridFormingInverter_Line_Load_EMT\n",
      "[12:02:48.558855 MnaSolverFactory info] creating KLUAdapter solver implementation\n",
      "[12:02:48.560297 GridFormingInverter_Line_Load_EMT info] Scheduling tasks.\n",
      "[12:02:48.560449 GridFormingInverter_Line_Load_EMT info] Scheduling done.\n",
      "[12:02:48.560451 GridFormingInverter_Line_Load_EMT info] Opening interfaces.\n",
      "[12:02:48.560453 GridFormingInverter_Line_Load_EMT info] Start synchronization with remotes on interfaces\n",
      "[12:02:48.560454 GridFormingInverter_Line_Load_EMT info] Synchronized simulation start with remotes\n",
      "[12:02:48.560456 GridFormingInverter_Line_Load_EMT info] Start simulation: GridFormingInverter_Line_Load_EMT\n",
      "[12:02:48.560458 GridFormingInverter_Line_Load_EMT info] Time step: 1.000000e-04\n",
      "[12:02:48.560461 GridFormingInverter_Line_Load_EMT info] Final time: 2.000000e+00\n",
      "[12:02:48.885265 GridFormingInverter_Line_Load_EMT info] Simulation calculation time: 0.324770\n",
      "[12:02:48.894587 GridFormingInverter_Line_Load_EMT info] Simulation finished.\n"
     ]
    }
   ],
   "source": [
    "log_name_emt = gridFormingInverter_Line_Load(domain=\"EMT\", system_pf=system_pf, final_time=2, model_as_current_source=True, time_step=0.0001)\n",
    "file_path_emt = os.getcwd() + \"/logs/\" + log_name_emt + \"/\" + log_name_emt + \".csv\"\n",
    "ts_dpsim_emt = read_timeseries_dpsim(file_path_emt)"
   ]
  },
  {
   "cell_type": "markdown",
   "metadata": {},
   "source": [
    "### SP Simulation"
   ]
  },
  {
   "cell_type": "code",
   "execution_count": 9,
   "metadata": {},
   "outputs": [
    {
     "name": "stdout",
     "output_type": "stream",
     "text": [
      "3.000000e-01: Handle event time\n",
      "1.000000e+00: Handle event time\n",
      "column number: 10\n",
      "results length: 20001\n",
      "real column names: ['PowerSource', 'ThetaInv', 'V_DC']\n",
      "complex column names: ['Ifilter_dq', 'PowerPCC', 'SourceValue', 'SourceValue_dq', 'Vcap_dq', 'n1.v', 'n2.v']\n"
     ]
    },
    {
     "name": "stderr",
     "output_type": "stream",
     "text": [
      "[12:02:48.981273 GridFormingInverter_Line_Load_SP info] Initialize simulation: GridFormingInverter_Line_Load_SP\n",
      "[12:02:48.981651 MnaSolverFactory info] creating KLUAdapter solver implementation\n",
      "[12:02:48.983790 GridFormingInverter_Line_Load_SP info] Scheduling tasks.\n",
      "[12:02:48.984109 GridFormingInverter_Line_Load_SP info] Scheduling done.\n",
      "[12:02:48.984118 GridFormingInverter_Line_Load_SP info] Opening interfaces.\n",
      "[12:02:48.984122 GridFormingInverter_Line_Load_SP info] Start synchronization with remotes on interfaces\n",
      "[12:02:48.984126 GridFormingInverter_Line_Load_SP info] Synchronized simulation start with remotes\n",
      "[12:02:48.984131 GridFormingInverter_Line_Load_SP info] Start simulation: GridFormingInverter_Line_Load_SP\n",
      "[12:02:48.984138 GridFormingInverter_Line_Load_SP info] Time step: 1.000000e-04\n",
      "[12:02:48.984146 GridFormingInverter_Line_Load_SP info] Final time: 2.000000e+00\n",
      "[12:02:49.271338 GridFormingInverter_Line_Load_SP info] Simulation calculation time: 0.287118\n",
      "[12:02:49.279527 GridFormingInverter_Line_Load_SP info] Simulation finished.\n"
     ]
    }
   ],
   "source": [
    "log_name_sp = gridFormingInverter_Line_Load(domain=\"SP\", system_pf=system_pf, final_time=2, model_as_current_source=True, time_step=0.0001)\n",
    "file_path_sp = os.getcwd() + \"/logs/\" + log_name_sp + \"/\" + log_name_sp + \".csv\"\n",
    "ts_dpsim_sp = read_timeseries_dpsim(file_path_sp)"
   ]
  },
  {
   "cell_type": "markdown",
   "metadata": {},
   "source": [
    "### Plot & Validate Results"
   ]
  },
  {
   "cell_type": "code",
   "execution_count": 10,
   "metadata": {},
   "outputs": [
    {
     "name": "stderr",
     "output_type": "stream",
     "text": [
      "/usr/local/lib64/python3.9/site-packages/matplotlib/cbook/__init__.py:1298: ComplexWarning: Casting complex values to real discards the imaginary part\n",
      "  return np.asarray(x, float)\n",
      "/usr/local/lib64/python3.9/site-packages/matplotlib/cbook/__init__.py:1298: ComplexWarning: Casting complex values to real discards the imaginary part\n",
      "  return np.asarray(x, float)\n"
     ]
    },
    {
     "data": {
      "image/png": "[encoded data removed]",
      "text/plain": [
       "<Figure size 504x288 with 1 Axes>"
      ]
     },
     "metadata": {
      "needs_background": "light"
     },
     "output_type": "display_data"
    },
    {
     "data": {
      "image/png": "[encoded data removed]",
      "text/plain": [
       "<Figure size 1080x360 with 3 Axes>"
      ]
     },
     "metadata": {
      "needs_background": "light"
     },
     "output_type": "display_data"
    },
    {
     "data": {
      "image/png": "[encoded data removed]",
      "text/plain": [
       "<Figure size 1080x360 with 3 Axes>"
      ]
     },
     "metadata": {
      "needs_background": "light"
     },
     "output_type": "display_data"
    }
   ],
   "source": [
    "ts_simulink = None\n",
    "plot_emt_variable('n2.v_0', 'n2.v', 'v2_1', ts_dpsim_emt, ts_dpsim_dp, ts_dpsim_sp, ts_simulink, 'V2', [-1200, 1200], [0.2, 0.6])\n",
    "\n",
    "\n",
    "data_sets = [ts_dpsim_emt, ts_dpsim_dp]\n",
    "labels = ['EMT', 'DP']\n",
    "\n",
    "'''\n",
    "# Loop through data sets\n",
    "for i, ts_data in enumerate(data_sets):\n",
    "    plt.figure(figsize=(15, 5))\n",
    "\n",
    "    # Loop through subplots\n",
    "    for j, key in enumerate(['V_DC', 'PowerSource', 'PowerPCC']):\n",
    "        plt.subplot(1, 3, j + 1)\n",
    "        plt.plot(ts_data[key].time, ts_data[key].values)\n",
    "        plt.title(f'{key} - {labels[i]}')\n",
    "        plt.grid(True)\n",
    "\n",
    "    plt.tight_layout()\n",
    "\n",
    "plt.show()\n",
    "'''\n",
    "\n",
    "for i, ts_data in enumerate(data_sets):\n",
    "    plt.figure(figsize=(15, 5))\n",
    "\n",
    "    # Loop through subplots\n",
    "    for j, key in enumerate(['V_DC', 'PowerSource', 'PowerPCC']):\n",
    "        plt.subplot(1, 3, j + 1)\n",
    "        \n",
    "        # Slicing the time array for the specified time window\n",
    "        start_idx = int(len(ts_data[key].time) * 0.05)\n",
    "        end_idx = int(len(ts_data[key].time) * 0.95)\n",
    "        time_window = ts_data[key].time[start_idx:end_idx]\n",
    "        \n",
    "        plt.plot(time_window, ts_data[key].values[start_idx:end_idx])\n",
    "        plt.title(f'{key} - {labels[i]}')\n",
    "        plt.grid(True)\n",
    "\n",
    "    plt.tight_layout()\n",
    "\n",
    "plt.show()\n"
   ]
  },
  {
   "cell_type": "markdown",
   "metadata": {},
   "source": []
  }
 ],
 "metadata": {
  "kernelspec": {
   "display_name": "Python 3",
   "language": "python",
   "name": "python3"
  },
  "language_info": {
   "codemirror_mode": {
    "name": "ipython",
    "version": 3
   },
   "file_extension": ".py",
   "mimetype": "text/x-python",
   "name": "python",
   "nbconvert_exporter": "python",
   "pygments_lexer": "ipython3",
   "version": "3.9.13"
  },
  "tests": {
   "skip": false
  }
 },
 "nbformat": 4,
 "nbformat_minor": 2
}
