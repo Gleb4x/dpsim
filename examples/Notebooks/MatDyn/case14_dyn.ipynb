{
 "cells": [
  {
   "attachments": {},
   "cell_type": "markdown",
   "metadata": {},
   "source": [
    "# Case 14 Powerflow Solver Test"
   ]
  },
  {
   "attachments": {},
   "cell_type": "markdown",
   "metadata": {},
   "source": [
    "## Run simulation"
   ]
  },
  {
   "attachments": {},
   "cell_type": "markdown",
   "metadata": {},
   "source": [
    "### Import Libraries"
   ]
  },
  {
   "cell_type": "code",
   "execution_count": 1,
   "metadata": {},
   "outputs": [],
   "source": [
    "import sys\n",
    "sys.path.insert(0,'/home/mmo-gog/dpsim/build/')\n",
    "sys.path.insert(0,'/home/mmo-gog/dpsim/python/src/dpsim')\n",
    "\n",
    "import matpower\n",
    "import dpsimpy\n",
    "\n",
    "from villas.dataprocessing.readtools import *\n",
    "from villas.dataprocessing.timeseries import *\n",
    "import urllib.request\n",
    "import matplotlib.pyplot as plt"
   ]
  },
  {
   "attachments": {},
   "cell_type": "markdown",
   "metadata": {},
   "source": [
    "### Simulation parameters"
   ]
  },
  {
   "cell_type": "code",
   "execution_count": 2,
   "metadata": {},
   "outputs": [],
   "source": [
    "# simulation files\n",
    "path_static_file = '/home/mmo-gog/dpsim/examples/Notebooks/MatDyn/IEEE14/ieee14.mat'\n",
    "path_dynamic_file = '/home/mmo-gog/dpsim/examples/Notebooks/MatDyn/IEEE14/ieee14_dyn.mat'"
   ]
  },
  {
   "attachments": {},
   "cell_type": "markdown",
   "metadata": {},
   "source": [
    "### 1. Powerflow for initialization"
   ]
  },
  {
   "cell_type": "code",
   "execution_count": 3,
   "metadata": {},
   "outputs": [
    {
     "name": "stderr",
     "output_type": "stream",
     "text": [
      "[10:30:56.023706 IEEE14_PF info] Initialize simulation: IEEE14_PF\n",
      "[10:30:56.024649 IEEE14_PF_PF_Solver warning] Unable to get base voltage at N4\n",
      "[10:30:56.024660 IEEE14_PF_PF_Solver warning] Unable to get base voltage at N5\n",
      "[10:30:56.024671 IEEE14_PF_PF_Solver warning] Unable to get base voltage at N7\n",
      "[10:30:56.024686 IEEE14_PF_PF_Solver warning] Unable to get base voltage at N9\n",
      "[10:30:56.024688 IEEE14_PF_PF_Solver warning] Unable to get base voltage at N9\n",
      "[10:30:56.024696 IEEE14_PF_PF_Solver warning] Unable to get base voltage at N10\n",
      "[10:30:56.024702 IEEE14_PF_PF_Solver warning] Unable to get base voltage at N11\n",
      "[10:30:56.024709 IEEE14_PF_PF_Solver warning] Unable to get base voltage at N12\n",
      "[10:30:56.024715 IEEE14_PF_PF_Solver warning] Unable to get base voltage at N13\n",
      "[10:30:56.024721 IEEE14_PF_PF_Solver warning] Unable to get base voltage at N14\n",
      "[10:30:56.025318 IEEE14_PF info] Scheduling tasks.\n",
      "[10:30:56.026002 IEEE14_PF info] Scheduling done.\n",
      "[10:30:56.026006 IEEE14_PF info] Opening interfaces.\n",
      "[10:30:56.026008 IEEE14_PF info] Start synchronization with remotes on interfaces\n",
      "[10:30:56.026010 IEEE14_PF info] Synchronized simulation start with remotes\n",
      "[10:30:56.026012 IEEE14_PF info] Start simulation: IEEE14_PF\n",
      "[10:30:56.026019 IEEE14_PF info] Time step: 1.000000e-01\n",
      "[10:30:56.026020 IEEE14_PF info] Final time: 1.000000e-01\n",
      "[10:30:56.034696 IEEE14_PF info] Simulation calculation time: 0.008669\n",
      "[10:30:56.034748 IEEE14_PF info] Simulation finished.\n"
     ]
    }
   ],
   "source": [
    "sim_name_pf = 'IEEE14_PF'\n",
    "dpsimpy.Logger.set_log_dir('logs/' + sim_name_pf)\n",
    "\n",
    "# read and create dpsim topology\n",
    "mpc_reader = matpower.Reader(mpc_file_path=path_static_file, mpc_name='ieee14',\n",
    "                             mpc_dyn_file_path=path_dynamic_file, mpc_dyn_name='ieee14_dyn')\n",
    "mpc_reader.load_mpc(domain=matpower.Domain.PF)\n",
    "system_pf = mpc_reader.system\n",
    "\n",
    "# log results\n",
    "logger = dpsimpy.Logger(sim_name_pf)\n",
    "for node in system_pf.nodes:\n",
    "    logger.log_attribute(node.name()+'.V', 'v', node)\n",
    "    logger.log_attribute(node.name()+'.S', 's', node)\n",
    "\n",
    "# Parametrize and run simulation\n",
    "sim_pf = dpsimpy.Simulation(sim_name_pf, dpsimpy.LogLevel.info)\n",
    "sim_pf.set_system(system_pf)\n",
    "sim_pf.set_time_step(0.1)\n",
    "sim_pf.set_final_time(0.1)\n",
    "sim_pf.set_domain(dpsimpy.Domain.SP)\n",
    "sim_pf.set_solver(dpsimpy.Solver.NRP)\n",
    "sim_pf.do_init_from_nodes_and_terminals(False)\n",
    "sim_pf.set_solver_component_behaviour(dpsimpy.SolverBehaviour.Initialization)\n",
    "sim_pf.add_logger(logger)\n",
    "sim_pf.run()"
   ]
  },
  {
   "attachments": {},
   "cell_type": "markdown",
   "metadata": {},
   "source": [
    "### Read pf results"
   ]
  },
  {
   "cell_type": "code",
   "execution_count": 4,
   "metadata": {},
   "outputs": [
    {
     "name": "stdout",
     "output_type": "stream",
     "text": [
      "column number: 28\n",
      "results length: 2\n",
      "real column names: []\n",
      "complex column names: ['N1.S', 'N1.V', 'N10.S', 'N10.V', 'N11.S', 'N11.V', 'N12.S', 'N12.V', 'N13.S', 'N13.V', 'N14.S', 'N14.V', 'N2.S', 'N2.V', 'N3.S', 'N3.V', 'N4.S', 'N4.V', 'N5.S', 'N5.V', 'N6.S', 'N6.V', 'N7.S', 'N7.V', 'N8.S', 'N8.V', 'N9.S', 'N9.V']\n"
     ]
    }
   ],
   "source": [
    "dpsim_result_file = 'logs/' + sim_name_pf + '/' + sim_name_pf + '.csv'\n",
    "ts_dpsim_pf = read_timeseries_csv(dpsim_result_file)"
   ]
  },
  {
   "attachments": {},
   "cell_type": "markdown",
   "metadata": {},
   "source": [
    "#### DPsim results"
   ]
  },
  {
   "cell_type": "code",
   "execution_count": 5,
   "metadata": {},
   "outputs": [
    {
     "data": {
      "text/html": [
       "<div>\n",
       "<style scoped>\n",
       "    .dataframe tbody tr th:only-of-type {\n",
       "        vertical-align: middle;\n",
       "    }\n",
       "\n",
       "    .dataframe tbody tr th {\n",
       "        vertical-align: top;\n",
       "    }\n",
       "\n",
       "    .dataframe thead th {\n",
       "        text-align: right;\n",
       "    }\n",
       "</style>\n",
       "<table border=\"1\" class=\"dataframe\">\n",
       "  <thead>\n",
       "    <tr style=\"text-align: right;\">\n",
       "      <th></th>\n",
       "      <th>Bus</th>\n",
       "      <th>V_mag(pu)</th>\n",
       "      <th>V_angle(deg)</th>\n",
       "      <th>P(pu)</th>\n",
       "      <th>Q(pu)</th>\n",
       "    </tr>\n",
       "  </thead>\n",
       "  <tbody>\n",
       "    <tr>\n",
       "      <th>0</th>\n",
       "      <td>N1</td>\n",
       "      <td>1.0600</td>\n",
       "      <td>0.0000</td>\n",
       "      <td>2.3239</td>\n",
       "      <td>-0.16889</td>\n",
       "    </tr>\n",
       "    <tr>\n",
       "      <th>1</th>\n",
       "      <td>N2</td>\n",
       "      <td>1.0450</td>\n",
       "      <td>-0.0869</td>\n",
       "      <td>0.1830</td>\n",
       "      <td>0.29696</td>\n",
       "    </tr>\n",
       "    <tr>\n",
       "      <th>2</th>\n",
       "      <td>N3</td>\n",
       "      <td>1.0100</td>\n",
       "      <td>-0.2220</td>\n",
       "      <td>-0.9420</td>\n",
       "      <td>0.04394</td>\n",
       "    </tr>\n",
       "    <tr>\n",
       "      <th>3</th>\n",
       "      <td>N4</td>\n",
       "      <td>1.0186</td>\n",
       "      <td>-0.1802</td>\n",
       "      <td>-0.4780</td>\n",
       "      <td>0.03900</td>\n",
       "    </tr>\n",
       "    <tr>\n",
       "      <th>4</th>\n",
       "      <td>N5</td>\n",
       "      <td>1.0203</td>\n",
       "      <td>-0.1533</td>\n",
       "      <td>-0.0760</td>\n",
       "      <td>-0.01600</td>\n",
       "    </tr>\n",
       "    <tr>\n",
       "      <th>5</th>\n",
       "      <td>N6</td>\n",
       "      <td>1.0700</td>\n",
       "      <td>-0.2482</td>\n",
       "      <td>-0.1120</td>\n",
       "      <td>0.04740</td>\n",
       "    </tr>\n",
       "    <tr>\n",
       "      <th>6</th>\n",
       "      <td>N7</td>\n",
       "      <td>1.0620</td>\n",
       "      <td>-0.2333</td>\n",
       "      <td>0.0000</td>\n",
       "      <td>0.00000</td>\n",
       "    </tr>\n",
       "    <tr>\n",
       "      <th>7</th>\n",
       "      <td>N8</td>\n",
       "      <td>1.0900</td>\n",
       "      <td>-0.2333</td>\n",
       "      <td>-0.0000</td>\n",
       "      <td>0.17357</td>\n",
       "    </tr>\n",
       "    <tr>\n",
       "      <th>8</th>\n",
       "      <td>N9</td>\n",
       "      <td>1.0563</td>\n",
       "      <td>-0.2609</td>\n",
       "      <td>-0.2950</td>\n",
       "      <td>0.04601</td>\n",
       "    </tr>\n",
       "    <tr>\n",
       "      <th>9</th>\n",
       "      <td>N10</td>\n",
       "      <td>1.0513</td>\n",
       "      <td>-0.2636</td>\n",
       "      <td>-0.0900</td>\n",
       "      <td>-0.05800</td>\n",
       "    </tr>\n",
       "    <tr>\n",
       "      <th>10</th>\n",
       "      <td>N11</td>\n",
       "      <td>1.0571</td>\n",
       "      <td>-0.2582</td>\n",
       "      <td>-0.0350</td>\n",
       "      <td>-0.01800</td>\n",
       "    </tr>\n",
       "    <tr>\n",
       "      <th>11</th>\n",
       "      <td>N12</td>\n",
       "      <td>1.0552</td>\n",
       "      <td>-0.2632</td>\n",
       "      <td>-0.0610</td>\n",
       "      <td>-0.01600</td>\n",
       "    </tr>\n",
       "    <tr>\n",
       "      <th>12</th>\n",
       "      <td>N13</td>\n",
       "      <td>1.0504</td>\n",
       "      <td>-0.2646</td>\n",
       "      <td>-0.1350</td>\n",
       "      <td>-0.05800</td>\n",
       "    </tr>\n",
       "    <tr>\n",
       "      <th>13</th>\n",
       "      <td>N14</td>\n",
       "      <td>1.0358</td>\n",
       "      <td>-0.2799</td>\n",
       "      <td>-0.1490</td>\n",
       "      <td>-0.05000</td>\n",
       "    </tr>\n",
       "  </tbody>\n",
       "</table>\n",
       "</div>"
      ],
      "text/plain": [
       "    Bus  V_mag(pu)  V_angle(deg)   P(pu)    Q(pu)\n",
       "0    N1     1.0600        0.0000  2.3239 -0.16889\n",
       "1    N2     1.0450       -0.0869  0.1830  0.29696\n",
       "2    N3     1.0100       -0.2220 -0.9420  0.04394\n",
       "3    N4     1.0186       -0.1802 -0.4780  0.03900\n",
       "4    N5     1.0203       -0.1533 -0.0760 -0.01600\n",
       "5    N6     1.0700       -0.2482 -0.1120  0.04740\n",
       "6    N7     1.0620       -0.2333  0.0000  0.00000\n",
       "7    N8     1.0900       -0.2333 -0.0000  0.17357\n",
       "8    N9     1.0563       -0.2609 -0.2950  0.04601\n",
       "9   N10     1.0513       -0.2636 -0.0900 -0.05800\n",
       "10  N11     1.0571       -0.2582 -0.0350 -0.01800\n",
       "11  N12     1.0552       -0.2632 -0.0610 -0.01600\n",
       "12  N13     1.0504       -0.2646 -0.1350 -0.05800\n",
       "13  N14     1.0358       -0.2799 -0.1490 -0.05000"
      ]
     },
     "execution_count": 5,
     "metadata": {},
     "output_type": "execute_result"
    }
   ],
   "source": [
    "dpsim_results = pd.DataFrame(columns=['Bus', 'V_mag(pu)', 'V_angle(deg)', 'P(pu)', 'Q(pu)'])\n",
    "base_power = 100 #mw\n",
    "for i in range(len(system_pf.nodes)):\n",
    "    node_name = system_pf.nodes[i].name() #ex. N5\n",
    "    node_number = node_name.replace('N', '')\n",
    "    node_baseV = mpc_reader.mpc_bus_data.loc[mpc_reader.mpc_bus_data['bus_i'] == int(node_number), 'baseKV'].iloc[0] * 1e3\n",
    "    w_mw = 1e-6\n",
    "    dpsim_results.loc[i] = ([node_name] + [round(np.absolute(ts_dpsim_pf[node_name + '.V'].values[-1]) / node_baseV, 4)]\n",
    "        + [round(np.angle(ts_dpsim_pf[node_name + '.V'].values[-1]*180/np.pi), 4)] \n",
    "        + [round(w_mw * np.real(ts_dpsim_pf[node_name + '.S'].values[-1]) / base_power, 4)] \n",
    "        + [round(w_mw * np.imag(ts_dpsim_pf[node_name + '.S'].values[-1]) / base_power, 5)])\n",
    "\n",
    "dpsim_results"
   ]
  },
  {
   "attachments": {},
   "cell_type": "markdown",
   "metadata": {},
   "source": [
    "### Validate Results against PSAT"
   ]
  },
  {
   "cell_type": "code",
   "execution_count": null,
   "metadata": {},
   "outputs": [],
   "source": [
    "### PSAT Results\n",
    "voltage_mag = np.array([1.06, 1.045, 1.01, 1.0186, 1.0203, 1.07, 1.062, 1.09, 1.0564, 1.0513, 1.0571, 1.0552, 1.0504, 1.0358])\n",
    "voltage_angle = np.array([0, -0.08693, -0.22197, -0.18019, -0.15328, -0.24823, -0.23332, -0.23332, -0.26087, -0.26362, -0.25823, -0.26315, -0.26457, -0.27993])\n",
    "p_loads = np.array([0, 0.217, 0.942, 0.478, 0.076, 0.112, 0, 0, 0.295, 0.09, 0.035, 0.061, 0.135, 0.149])\n",
    "q_loads = np.array([0,  0.127, 0.19, -0.039, 0.016, 0.075, 0, 0, -0.04601, 0.058, 0.018, 0.016, 0.058, 0.05])\n",
    "p_gen = np.array([2.3239, 0.4, 0, 0, 0, 0, 0, 0, 0, 0, 0, 0, 0, 0])\n",
    "q_gen = np.array([-0.16889, 0.42396, 0.23394, 0, 0, 0.1224, 0, 0.17357, 0, 0, 0, 0, 0, 0])\n",
    "busses = [\"N1\", \"N2\", \"N3\", \"N4\", \"N5\", \"N6\", \"N7\", \"N8\", \"N9\", \"N10\", \"N11\", \"N12\", \"N13\", \"N14\"]\n",
    "d = {\"Bus\": busses, \"V_mag(pu)\": voltage_mag, \"V_angle(deg)\": voltage_angle, \"P(pu)\": -p_loads+p_gen, \"Q(pu)\": -q_loads+q_gen}\n",
    "psat_results = pd.DataFrame(d)\n",
    "\n",
    "psat_results"
   ]
  },
  {
   "attachments": {},
   "cell_type": "markdown",
   "metadata": {},
   "source": [
    "### Difference"
   ]
  },
  {
   "cell_type": "code",
   "execution_count": null,
   "metadata": {},
   "outputs": [],
   "source": [
    "difference_vmag = psat_results['V_mag(pu)'] - dpsim_results['V_mag(pu)']\n",
    "difference_vmag[0:4] = difference_vmag[0:4] * 69000\n",
    "difference_vmag[7] = difference_vmag[7] * 18000\n",
    "difference_vmag[5:6] = difference_vmag[5:6] * 13800\n",
    "difference_vmag[8:-1] = difference_vmag[8:-1] * 13800\n",
    "difference_vangle = psat_results['V_angle(deg)'] - dpsim_results['V_angle(deg)']\n",
    "\n",
    "#base power = 100MW\n",
    "difference_p = (psat_results['P(pu)'] - dpsim_results['P(pu)'])*100*1e6\n",
    "difference_q = (psat_results['Q(pu)'] - dpsim_results['Q(pu)'])*100*1e6\n",
    "difference = {\"Bus\": busses, \"V_mag [V]\": difference_vmag, \"V_angle [deg]\": difference_vangle, \"P [W]\": difference_p, \"Q [VAr]\": difference_q}\n",
    "difference = pd.DataFrame(difference)\n",
    "\n",
    "difference"
   ]
  },
  {
   "attachments": {},
   "cell_type": "markdown",
   "metadata": {},
   "source": [
    "### Assertion"
   ]
  },
  {
   "cell_type": "code",
   "execution_count": null,
   "metadata": {},
   "outputs": [],
   "source": [
    "print(np.max(np.absolute(difference_p)))\n",
    "assert(np.all(np.absolute(difference_p)<3e-9))    #Watt\n",
    "print(np.max(np.absolute(difference_q)))\n",
    "assert(np.all(np.absolute(difference_q)<1000.1))    #Watt\n",
    "\n",
    "print(np.max(difference_vmag))\n",
    "assert(np.all(difference_vmag)<1.38)\n",
    "\n",
    "print(np.max(difference_vangle))\n",
    "assert(np.all(difference_vangle)<1e-9)"
   ]
  },
  {
   "attachments": {},
   "cell_type": "markdown",
   "metadata": {},
   "source": [
    "### 2. Dynamic simulation with fault at Node 14"
   ]
  },
  {
   "attachments": {},
   "cell_type": "markdown",
   "metadata": {},
   "source": [
    "#### SP - Dynamic Simulation"
   ]
  },
  {
   "cell_type": "code",
   "execution_count": 6,
   "metadata": {},
   "outputs": [
    {
     "name": "stdout",
     "output_type": "stream",
     "text": [
      "2.000000e-01: Handle event time\n"
     ]
    },
    {
     "name": "stderr",
     "output_type": "stream",
     "text": [
      "[17:55:34.285685 SP_IEEE14_Dyn_InitPF info] Initialize simulation: SP_IEEE14_Dyn_InitPF\n"
     ]
    },
    {
     "name": "stdout",
     "output_type": "stream",
     "text": [
      "3.000000e-01: Handle event time\n"
     ]
    },
    {
     "name": "stderr",
     "output_type": "stream",
     "text": [
      "[17:55:34.285941 MnaSolverFactory info] creating SparseLUAdapter solver implementation\n",
      "[17:55:34.294748 SP_IEEE14_Dyn_InitPF_Solver warning] Linear solver configuration is not used!\n",
      "[17:55:34.300107 SP_IEEE14_Dyn_InitPF info] Scheduling tasks.\n",
      "[17:55:34.301389 SP_IEEE14_Dyn_InitPF info] Scheduling done.\n",
      "[17:55:34.301394 SP_IEEE14_Dyn_InitPF info] Opening interfaces.\n",
      "[17:55:34.301396 SP_IEEE14_Dyn_InitPF info] Start synchronization with remotes on interfaces\n",
      "[17:55:34.301398 SP_IEEE14_Dyn_InitPF info] Synchronized simulation start with remotes\n",
      "[17:55:34.301400 SP_IEEE14_Dyn_InitPF info] Start simulation: SP_IEEE14_Dyn_InitPF\n",
      "[17:55:34.301404 SP_IEEE14_Dyn_InitPF info] Time step: 1.000000e-03\n",
      "[17:55:34.301406 SP_IEEE14_Dyn_InitPF info] Final time: 1.000000e+01\n",
      "[17:55:49.958985 SP_IEEE14_Dyn_InitPF info] Simulation calculation time: 15.657483\n",
      "[17:55:49.959116 SP_IEEE14_Dyn_InitPF info] Simulation finished.\n"
     ]
    }
   ],
   "source": [
    "sim_name_dyn_sp = 'SP_IEEE14_Dyn_InitPF'\n",
    "dpsimpy.Logger.set_log_dir('logs/' + sim_name_dyn_sp)\n",
    "\n",
    "# read and create dpsim topology\n",
    "mpc_reader = matpower.Reader(mpc_file_path=path_static_file, mpc_name='ieee14',\n",
    "                             mpc_dyn_file_path=path_dynamic_file, mpc_dyn_name='ieee14_dyn')\n",
    "mpc_reader.create_dpsim_objects(domain=matpower.Domain.SP, frequency=60, \n",
    "                                 with_avr=False, with_tg=False, with_pss=False)\n",
    "\n",
    "### Extend topology with switch between node N15 and groud\n",
    "sw = dpsimpy.sp.ph1.Switch('Fault', dpsimpy.LogLevel.info)\n",
    "switch_closed = 0.1 * (13.8*13.8/100.0)\n",
    "sw.set_parameters(1e18, switch_closed)\n",
    "sw.open()\n",
    "mpc_reader.dpsimpy_comp_dict['Fault'] = [sw]\n",
    "mpc_reader.dpsimpy_comp_dict['Fault'].append([dpsimpy.sp.SimNode.gnd, mpc_reader.dpsimpy_busses_dict[\"N14\"]])\n",
    "\n",
    "# create dpsim topology\n",
    "system_dyn = mpc_reader.create_dpsim_topology()\n",
    "\n",
    "#initialize node voltages using pf results\n",
    "system_dyn = mpc_reader.system\n",
    "system_dyn.init_with_powerflow(system_pf)\n",
    "\n",
    "# log results\n",
    "logger = dpsimpy.Logger(sim_name_dyn_sp)\n",
    "for node in system_dyn.nodes:\n",
    "    logger.log_attribute(node.name()+'.V', 'v', node)\n",
    "     \n",
    "# Parametrize and run simulation\n",
    "sim = dpsimpy.Simulation(sim_name_dyn_sp, dpsimpy.LogLevel.info)\n",
    "sim.set_system(system_dyn)\n",
    "sim.set_time_step(1e-3)\n",
    "sim.set_final_time(10)\n",
    "sim.set_domain(dpsimpy.Domain.SP)\n",
    "sim.set_solver(dpsimpy.Solver.MNA)\n",
    "sim.set_direct_solver_implementation(dpsimpy.DirectLinearSolverImpl.SparseLU)\n",
    "sim.do_init_from_nodes_and_terminals(True)\n",
    "sim.do_system_matrix_recomputation(True)\n",
    "sim.add_logger(logger)\n",
    "\n",
    "# add event\n",
    "sw_event_1 = dpsimpy.event.SwitchEvent(0.2, sw, True)\n",
    "sw_event_2 = dpsimpy.event.SwitchEvent(0.3, sw, False)\n",
    "sim.add_event(sw_event_1)\n",
    "sim.add_event(sw_event_2)\n",
    "\n",
    "sim.run()"
   ]
  },
  {
   "attachments": {},
   "cell_type": "markdown",
   "metadata": {},
   "source": [
    "#### DP - Dynamic Simulation"
   ]
  },
  {
   "cell_type": "code",
   "execution_count": 7,
   "metadata": {},
   "outputs": [
    {
     "name": "stderr",
     "output_type": "stream",
     "text": [
      "[17:56:11.889651 DP_IEEE14_Dyn_InitPF info] Initialize simulation: DP_IEEE14_Dyn_InitPF\n"
     ]
    },
    {
     "name": "stdout",
     "output_type": "stream",
     "text": [
      "2.000000e-01: Handle event time\n",
      "3.000000e-01: Handle event time\n"
     ]
    },
    {
     "name": "stderr",
     "output_type": "stream",
     "text": [
      "[17:56:11.889905 MnaSolverFactory info] creating SparseLUAdapter solver implementation\n",
      "[17:56:11.900575 DP_IEEE14_Dyn_InitPF_Solver warning] Linear solver configuration is not used!\n",
      "[17:56:11.906062 DP_IEEE14_Dyn_InitPF info] Scheduling tasks.\n",
      "[17:56:11.907847 DP_IEEE14_Dyn_InitPF info] Scheduling done.\n",
      "[17:56:11.907851 DP_IEEE14_Dyn_InitPF info] Opening interfaces.\n",
      "[17:56:11.907854 DP_IEEE14_Dyn_InitPF info] Start synchronization with remotes on interfaces\n",
      "[17:56:11.907855 DP_IEEE14_Dyn_InitPF info] Synchronized simulation start with remotes\n",
      "[17:56:11.907858 DP_IEEE14_Dyn_InitPF info] Start simulation: DP_IEEE14_Dyn_InitPF\n",
      "[17:56:11.907861 DP_IEEE14_Dyn_InitPF info] Time step: 1.000000e-03\n",
      "[17:56:11.907864 DP_IEEE14_Dyn_InitPF info] Final time: 1.000000e+01\n",
      "[17:56:28.104722 DP_IEEE14_Dyn_InitPF info] Simulation calculation time: 16.196760\n",
      "[17:56:28.104834 DP_IEEE14_Dyn_InitPF info] Simulation finished.\n"
     ]
    }
   ],
   "source": [
    "sim_name_dyn_dp = 'DP_IEEE14_Dyn_InitPF'\n",
    "dpsimpy.Logger.set_log_dir('logs/' + sim_name_dyn_dp)\n",
    "\n",
    "# read and create dpsim topology\n",
    "mpc_reader = matpower.Reader(mpc_file_path=path_static_file, mpc_name='ieee14',\n",
    "                             mpc_dyn_file_path=path_dynamic_file, mpc_dyn_name='ieee14_dyn')\n",
    "mpc_reader.create_dpsim_objects(domain=matpower.Domain.DP, frequency=60, \n",
    "                                 with_avr=False, with_tg=False, with_pss=False)\n",
    "\n",
    "### Extend topology with switch between node N15 and groud\n",
    "sw = dpsimpy.dp.ph1.Switch('Fault', dpsimpy.LogLevel.info)\n",
    "switch_closed = 0.1 * (13.8*13.8/100.0)\n",
    "sw.set_parameters(1e18, switch_closed)\n",
    "sw.open()\n",
    "mpc_reader.dpsimpy_comp_dict['Fault'] = [sw]\n",
    "mpc_reader.dpsimpy_comp_dict['Fault'].append([dpsimpy.sp.SimNode.gnd, mpc_reader.dpsimpy_busses_dict[\"N14\"]])\n",
    "\n",
    "# create dpsim topology\n",
    "mpc_reader.create_dpsim_topology()\n",
    "\n",
    "#initialize node voltages using pf results\n",
    "system_dyn = mpc_reader.system\n",
    "system_dyn.init_with_powerflow(system_pf)\n",
    "\n",
    "# log results\n",
    "logger = dpsimpy.Logger(sim_name_dyn_dp)\n",
    "for node in system_dyn.nodes:\n",
    "    logger.log_attribute(node.name()+'.V', 'v', node)\n",
    "     \n",
    "# Parametrize and run simulation\n",
    "sim = dpsimpy.Simulation(sim_name_dyn_dp, dpsimpy.LogLevel.info)\n",
    "sim.set_system(system_dyn)\n",
    "sim.set_time_step(1e-3)\n",
    "sim.set_final_time(10)\n",
    "sim.set_domain(dpsimpy.Domain.SP)\n",
    "sim.set_solver(dpsimpy.Solver.MNA)\n",
    "sim.set_direct_solver_implementation(dpsimpy.DirectLinearSolverImpl.SparseLU)\n",
    "sim.do_init_from_nodes_and_terminals(True)\n",
    "sim.do_system_matrix_recomputation(True)\n",
    "sim.add_logger(logger)\n",
    "\n",
    "# add event\n",
    "sw_event_1 = dpsimpy.event.SwitchEvent(0.2, sw, True)\n",
    "sw_event_2 = dpsimpy.event.SwitchEvent(0.3, sw, False)\n",
    "sim.add_event(sw_event_1)\n",
    "sim.add_event(sw_event_2)\n",
    "\n",
    "sim.run()"
   ]
  },
  {
   "attachments": {},
   "cell_type": "markdown",
   "metadata": {},
   "source": [
    "#### EMT - Dynamic Simulation"
   ]
  },
  {
   "cell_type": "code",
   "execution_count": 8,
   "metadata": {},
   "outputs": [
    {
     "name": "stdout",
     "output_type": "stream",
     "text": [
      "2.000000e-01: Handle event time\n"
     ]
    },
    {
     "name": "stderr",
     "output_type": "stream",
     "text": [
      "[17:57:43.046026 EMT_IEEE14_Dyn_InitPF info] Initialize simulation: EMT_IEEE14_Dyn_InitPF\n",
      "[17:57:43.046808 MnaSolverFactory info] creating SparseLUAdapter solver implementation\n",
      "[17:57:43.075491 EMT_IEEE14_Dyn_InitPF_Solver warning] Linear solver configuration is not used!\n",
      "[17:57:43.086014 EMT_IEEE14_Dyn_InitPF info] Scheduling tasks.\n",
      "[17:57:43.087790 EMT_IEEE14_Dyn_InitPF info] Scheduling done.\n",
      "[17:57:43.087794 EMT_IEEE14_Dyn_InitPF info] Opening interfaces.\n",
      "[17:57:43.087796 EMT_IEEE14_Dyn_InitPF info] Start synchronization with remotes on interfaces\n",
      "[17:57:43.087797 EMT_IEEE14_Dyn_InitPF info] Synchronized simulation start with remotes\n",
      "[17:57:43.087801 EMT_IEEE14_Dyn_InitPF info] Start simulation: EMT_IEEE14_Dyn_InitPF\n",
      "[17:57:43.087804 EMT_IEEE14_Dyn_InitPF info] Time step: 1.000000e-04\n",
      "[17:57:43.087807 EMT_IEEE14_Dyn_InitPF info] Final time: 1.000000e+01\n",
      "[18:02:41.250101 EMT_IEEE14_Dyn_InitPF info] Simulation calculation time: 298.162205\n",
      "[18:02:41.250172 EMT_IEEE14_Dyn_InitPF info] Simulation finished.\n"
     ]
    },
    {
     "name": "stdout",
     "output_type": "stream",
     "text": [
      "3.000000e-01: Handle event time\n"
     ]
    }
   ],
   "source": [
    "sim_name_dyn_emt = 'EMT_IEEE14_Dyn_InitPF'\n",
    "dpsimpy.Logger.set_log_dir('logs/' + sim_name_dyn_emt)\n",
    "\n",
    "# read and create dpsim topology\n",
    "mpc_reader = matpower.Reader(mpc_file_path=path_static_file, mpc_name='ieee14',\n",
    "                             mpc_dyn_file_path=path_dynamic_file, mpc_dyn_name='ieee14_dyn')\n",
    "mpc_reader.create_dpsim_objects(domain=matpower.Domain.EMT, frequency=60, log_level=dpsimpy.LogLevel.info, \n",
    "                                 with_avr=False, with_tg=False, with_pss=False)\n",
    "\n",
    "### Extend topology with switch between node N15 and groud\n",
    "sw = dpsimpy.emt.ph3.SeriesSwitch('Fault', dpsimpy.LogLevel.info)\n",
    "switch_closed = 0.1 * (13.8*13.8/100.0)\n",
    "sw.set_parameters(1e18, switch_closed)\n",
    "sw.open()\n",
    "mpc_reader.dpsimpy_comp_dict['Fault'] = [sw]\n",
    "mpc_reader.dpsimpy_comp_dict['Fault'].append([dpsimpy.emt.SimNode.gnd, mpc_reader.dpsimpy_busses_dict[\"N14\"]])\n",
    "\n",
    "# create dpsim topology\n",
    "mpc_reader.create_dpsim_topology()\n",
    "\n",
    "#initialize node voltages using pf results\n",
    "system_dyn = mpc_reader.system\n",
    "system_dyn.init_with_powerflow(system_pf, dpsimpy.Domain.EMT)\n",
    "\n",
    "# log results\n",
    "logger = dpsimpy.Logger(sim_name_dyn_emt)\n",
    "for node in system_dyn.nodes:\n",
    "    logger.log_attribute(node.name()+'.V', 'v', node)\n",
    "     \n",
    "# Parametrize and run simulation\n",
    "sim = dpsimpy.Simulation(sim_name_dyn_emt, dpsimpy.LogLevel.debug)\n",
    "sim.set_system(system_dyn)\n",
    "sim.set_time_step(1e-4)\n",
    "sim.set_final_time(10)\n",
    "sim.set_domain(dpsimpy.Domain.EMT)\n",
    "sim.set_solver(dpsimpy.Solver.MNA)\n",
    "sim.set_direct_solver_implementation(dpsimpy.DirectLinearSolverImpl.SparseLU)\n",
    "sim.do_init_from_nodes_and_terminals(True)\n",
    "sim.do_system_matrix_recomputation(True)\n",
    "sim.add_logger(logger)\n",
    "\n",
    "# add events\n",
    "sw_event_1 = dpsimpy.event.SwitchEvent(0.2, sw, True)\n",
    "sw_event_2 = dpsimpy.event.SwitchEvent(0.3, sw, False)\n",
    "sim.add_event(sw_event_1)\n",
    "sim.add_event(sw_event_2)\n",
    "\n",
    "sim.set_time_step(1e-4)\n",
    "sim.run()"
   ]
  },
  {
   "attachments": {},
   "cell_type": "markdown",
   "metadata": {},
   "source": [
    "#### Read results"
   ]
  },
  {
   "cell_type": "code",
   "execution_count": 9,
   "metadata": {},
   "outputs": [
    {
     "name": "stdout",
     "output_type": "stream",
     "text": [
      "column number: 15\n",
      "results length: 10001\n",
      "real column names: []\n",
      "complex column names: ['N1.V', 'N10.V', 'N11.V', 'N12.V', 'N13.V', 'N14.V', 'N2.V', 'N3.V', 'N4.V', 'N5.V', 'N6.V', 'N7.V', 'N8.V', 'N9.V', 'gnd.V']\n",
      "column number: 15\n",
      "results length: 10001\n",
      "real column names: []\n",
      "complex column names: ['N1.V', 'N10.V', 'N11.V', 'N12.V', 'N13.V', 'N14.V', 'N2.V', 'N3.V', 'N4.V', 'N5.V', 'N6.V', 'N7.V', 'N8.V', 'N9.V', 'gnd.V']\n",
      "column number: 43\n",
      "results length: 100001\n",
      "real column names: ['N1.V_0', 'N1.V_1', 'N1.V_2', 'N10.V_0', 'N10.V_1', 'N10.V_2', 'N11.V_0', 'N11.V_1', 'N11.V_2', 'N12.V_0', 'N12.V_1', 'N12.V_2', 'N13.V_0', 'N13.V_1', 'N13.V_2', 'N14.V_0', 'N14.V_1', 'N14.V_2', 'N2.V_0', 'N2.V_1', 'N2.V_2', 'N3.V_0', 'N3.V_1', 'N3.V_2', 'N4.V_0', 'N4.V_1', 'N4.V_2', 'N5.V_0', 'N5.V_1', 'N5.V_2', 'N6.V_0', 'N6.V_1', 'N6.V_2', 'N7.V_0', 'N7.V_1', 'N7.V_2', 'N8.V_0', 'N8.V_1', 'N8.V_2', 'N9.V_0', 'N9.V_1', 'N9.V_2', 'gnd.V']\n",
      "complex column names: []\n"
     ]
    }
   ],
   "source": [
    "from villas.dataprocessing.timeseries import TimeSeries as ts\n",
    "import villas.dataprocessing.plottools as pt\n",
    "\n",
    "dpsim_result_file = 'logs/' + sim_name_dyn_sp + '/' + sim_name_dyn_sp + '.csv'\n",
    "ts_dpsim_sp = read_timeseries_csv(dpsim_result_file)\n",
    "phasors = ts.phasors(ts_dpsim_sp)\n",
    "\n",
    "dpsim_result_file = 'logs/' + sim_name_dyn_dp + '/' + sim_name_dyn_dp + '.csv'\n",
    "ts_dpsim_dp = read_timeseries_csv(dpsim_result_file)\n",
    "\n",
    "dpsim_result_file = 'logs/' + sim_name_dyn_emt + '/' + sim_name_dyn_emt + '.csv'\n",
    "ts_dpsim_emt = read_timeseries_csv(dpsim_result_file)"
   ]
  },
  {
   "cell_type": "code",
   "execution_count": 10,
   "metadata": {},
   "outputs": [
    {
     "data": {
      "image/png": "[encoded data removed]",
      "text/plain": [
       "<Figure size 864x288 with 1 Axes>"
      ]
     },
     "metadata": {
      "needs_background": "light"
     },
     "output_type": "display_data"
    }
   ],
   "source": [
    "timestep_common = 1e-4\n",
    "t_begin = 0.0\n",
    "t_end = 3\n",
    "begin_idx = int(t_begin/timestep_common)\n",
    "end_idx= int(t_end/timestep_common)\n",
    "time = np.linspace(t_begin, t_end, num=end_idx-begin_idx)\n",
    "\n",
    "#plot parameters\n",
    "width = 12\n",
    "height = 4\n",
    "\n",
    "varname_dpsim = 'N14.V_0'\n",
    "nominal_voltage = 69000\n",
    "\n",
    "#convert dpsim voltage to magnitude value and per-unit for comparison with psat\n",
    "dpsim_dp_values = (ts_dpsim_emt[varname_dpsim].interpolate(timestep_common).values[begin_idx:end_idx]/nominal_voltage).real\n",
    "    \n",
    "plt.figure(figsize=(width, height))\n",
    "plt.plot(time, dpsim_dp_values, label='EMT - DPsim')\n",
    "\n",
    "plt.legend(loc='lower right')\n",
    "plt.xlabel('time (s)')\n",
    "plt.grid()\n",
    "#plt.ylim([0.99, 1.06])\n",
    "plt.xlim([0.15, 0.35])\n",
    "plt.show()"
   ]
  },
  {
   "attachments": {},
   "cell_type": "markdown",
   "metadata": {},
   "source": [
    "#### Plot results"
   ]
  },
  {
   "attachments": {},
   "cell_type": "markdown",
   "metadata": {},
   "source": [
    "##### HV side"
   ]
  },
  {
   "cell_type": "code",
   "execution_count": 11,
   "metadata": {},
   "outputs": [
    {
     "data": {
      "image/png": "[encoded data removed]",
      "text/plain": [
       "<Figure size 432x288 with 1 Axes>"
      ]
     },
     "metadata": {
      "needs_background": "light"
     },
     "output_type": "display_data"
    }
   ],
   "source": [
    "pt.plot_timeseries(1, phasors['N1.V']['abs'])\n",
    "pt.plot_timeseries(1, phasors['N2.V']['abs'])\n",
    "pt.plot_timeseries(1, phasors['N3.V']['abs'])\n",
    "pt.plot_timeseries(1, phasors['N4.V']['abs'])\n",
    "pt.plot_timeseries(1, phasors['N5.V']['abs'])"
   ]
  },
  {
   "attachments": {},
   "cell_type": "markdown",
   "metadata": {},
   "source": [
    "#### LV side"
   ]
  },
  {
   "cell_type": "code",
   "execution_count": 12,
   "metadata": {},
   "outputs": [
    {
     "data": {
      "image/png": "[encoded data removed]",
      "text/plain": [
       "<Figure size 432x288 with 1 Axes>"
      ]
     },
     "metadata": {
      "needs_background": "light"
     },
     "output_type": "display_data"
    }
   ],
   "source": [
    "pt.plot_timeseries(1, phasors['N6.V']['abs'])\n",
    "pt.plot_timeseries(1, phasors['N7.V']['abs'])\n",
    "pt.plot_timeseries(1, phasors['N8.V']['abs'])\n",
    "pt.plot_timeseries(1, phasors['N9.V']['abs'])\n",
    "pt.plot_timeseries(1, phasors['N10.V']['abs'])\n",
    "pt.plot_timeseries(1, phasors['N11.V']['abs'])\n",
    "pt.plot_timeseries(1, phasors['N12.V']['abs'])\n",
    "pt.plot_timeseries(1, phasors['N13.V']['abs'])\n",
    "pt.plot_timeseries(1, phasors['N14.V']['abs'])"
   ]
  },
  {
   "attachments": {},
   "cell_type": "markdown",
   "metadata": {},
   "source": [
    "#### Validation against PSAT"
   ]
  },
  {
   "attachments": {},
   "cell_type": "markdown",
   "metadata": {},
   "source": [
    "#### Load PSAT results"
   ]
  },
  {
   "cell_type": "code",
   "execution_count": null,
   "metadata": {},
   "outputs": [],
   "source": [
    "#if not os.path.exists('reference-results'):\n",
    "#    os.mkdir('reference-results')\n",
    "\n",
    "#url = 'https://raw.githubusercontent.com/dpsim-simulator/reference-results/master/PSAT/SMIB-Fault/#PSAT_3OrderSyGen_SMIB_Fault_100mS_TS_1mS.out.txt'\n",
    "#local_file_3Order = 'reference-results/PSAT_3OrderSyGen_SMIB_Fault_100mS_TS_1mS.out'\n",
    "local_file = 'IEEE14/PSAT_IEEE14_Fault_N14_100uS_without_Controls_SG_4Order.txt'\n",
    "\n",
    "#urllib.request.urlretrieve(url, local_file_3Order) \n",
    "ts_psat = read_timeseries_dpsim(local_file)"
   ]
  },
  {
   "attachments": {},
   "cell_type": "markdown",
   "metadata": {},
   "source": [
    "### Plot results"
   ]
  },
  {
   "cell_type": "code",
   "execution_count": 13,
   "metadata": {},
   "outputs": [],
   "source": [
    "timestep_common = 1e-3\n",
    "t_begin = 0.0\n",
    "t_end = 3\n",
    "begin_idx = int(t_begin/timestep_common)\n",
    "end_idx= int(t_end/timestep_common)\n",
    "time = np.linspace(t_begin, t_end, num=end_idx-begin_idx)\n",
    "\n",
    "#plot parameters\n",
    "width = 12\n",
    "height = 4\n",
    "\n",
    "def plot_node_volt_abs(varname_dpsim, varname_psat, ts_dpsim_sp, ts_dpsim_dp, ts_psat, nominal_voltage, ylabels, timestep_common=0.001):\n",
    "   \n",
    "    #convert dpsim voltage to magnitude value and per-unit for comparison with psat\n",
    "    dpsim_dp_values = (ts_dpsim_dp[varname_dpsim].interpolate(timestep_common).values[begin_idx:end_idx]/nominal_voltage).real\n",
    "    dpsim_sp_values_abs_pu = ts_dpsim_sp[varname_dpsim].interpolate(timestep_common).abs().values[begin_idx:end_idx]/nominal_voltage\n",
    "    dpsim_dp_values_abs_pu = ts_dpsim_dp[varname_dpsim].interpolate(timestep_common).abs().values[begin_idx:end_idx]/nominal_voltage\n",
    "    psat_values = ts_psat[varname_psat].interpolate(timestep_common).values[begin_idx:end_idx]\n",
    "    \n",
    "    plt.figure(figsize=(width, height))\n",
    "    plt.plot(time, dpsim_dp_values_abs_pu, label='DP - DPsim')\n",
    "    plt.plot(time, dpsim_sp_values_abs_pu, label='SP - DPsim')\n",
    "    plt.plot(time, psat_values, '--', label='PSAT')\n",
    "\n",
    "    plt.legend(loc='lower right')\n",
    "    plt.xlabel('time (s)')\n",
    "    plt.grid()\n",
    "    #plt.ylim([0.99, 1.06])\n",
    "    #plt.xlim([8, 10])\n",
    "    plt.show()\n",
    "    \n",
    "    plt.figure(figsize=(width, height))\n",
    "    plt.plot(time, dpsim_dp_values_abs_pu, label='DP - DPsim')\n",
    "    plt.plot(time, dpsim_sp_values_abs_pu, label='SP - DPsim')\n",
    "    #plt.plot(time, dpsim_dp_values, '--', label='DP')\n",
    "    plt.legend(loc='lower right')\n",
    "    plt.xlabel('time (s)')\n",
    "    plt.grid()\n",
    "    plt.xlim([0.15, 0.4])\n",
    "    plt.show()\n",
    "      \n",
    "    #calculate RMSE\n",
    "    rmse = np.sqrt(((dpsim_sp_values_abs_pu - psat_values) ** 2).mean())\n",
    "    print('RMSE {:s}  = {:.6f} (pu), which is {:.3f}% of the nominal value = {:.3f} (pu) '.format(varname_dpsim, rmse, rmse/1.0*100, 1.0))"
   ]
  },
  {
   "attachments": {},
   "cell_type": "markdown",
   "metadata": {},
   "source": [
    "#### HV side"
   ]
  },
  {
   "cell_type": "code",
   "execution_count": null,
   "metadata": {},
   "outputs": [],
   "source": [
    "varname_dpsim = 'N1.V'\n",
    "varname_psat = 'V_Bus01'\n",
    "nominal_voltage = 69000\n",
    "plot_node_volt_abs(varname_dpsim, varname_psat, ts_dpsim_sp, ts_dpsim_dp, ts_psat, nominal_voltage, \"Voltage magnitude N1\", timestep_common=0.001)"
   ]
  },
  {
   "cell_type": "code",
   "execution_count": null,
   "metadata": {},
   "outputs": [],
   "source": [
    "varname_dpsim = 'N2.V'\n",
    "varname_psat = 'V_Bus02'\n",
    "nominal_voltage = 69000\n",
    "plot_node_volt_abs(varname_dpsim, varname_psat, ts_dpsim_sp, ts_dpsim_dp, ts_psat, nominal_voltage, \"Voltage magnitude N2\", timestep_common=0.001)"
   ]
  },
  {
   "cell_type": "code",
   "execution_count": null,
   "metadata": {},
   "outputs": [],
   "source": [
    "varname_dpsim = 'N3.V'\n",
    "varname_psat = 'V_Bus03'\n",
    "nominal_voltage = 69000\n",
    "plot_node_volt_abs(varname_dpsim, varname_psat, ts_dpsim_sp, ts_dpsim_dp, ts_psat, nominal_voltage, \"Voltage magnitude N3\", timestep_common=0.001)"
   ]
  },
  {
   "cell_type": "code",
   "execution_count": null,
   "metadata": {},
   "outputs": [],
   "source": [
    "varname_dpsim = 'N4.V'\n",
    "varname_psat = 'V_Bus04'\n",
    "nominal_voltage = 69000\n",
    "plot_node_volt_abs(varname_dpsim, varname_psat, ts_dpsim_sp, ts_dpsim_dp, ts_psat, nominal_voltage, \"Voltage magnitude N4\", timestep_common=0.001)"
   ]
  },
  {
   "cell_type": "code",
   "execution_count": null,
   "metadata": {},
   "outputs": [],
   "source": [
    "varname_dpsim = 'N5.V'\n",
    "varname_psat = 'V_Bus05'\n",
    "nominal_voltage = 69000\n",
    "plot_node_volt_abs(varname_dpsim, varname_psat, ts_dpsim_sp, ts_dpsim_dp, ts_psat, nominal_voltage, \"Voltage magnitude N5\", timestep_common=0.001)"
   ]
  },
  {
   "attachments": {},
   "cell_type": "markdown",
   "metadata": {},
   "source": [
    "#### Low voltage side"
   ]
  },
  {
   "cell_type": "code",
   "execution_count": null,
   "metadata": {},
   "outputs": [],
   "source": [
    "varname_dpsim = 'N6.V'\n",
    "varname_psat = 'V_Bus06'\n",
    "nominal_voltage = 13800\n",
    "plot_node_volt_abs(varname_dpsim, varname_psat, ts_dpsim_sp, ts_dpsim_dp, ts_psat, nominal_voltage, \"Voltage magnitude N6\", timestep_common=0.001)"
   ]
  },
  {
   "cell_type": "code",
   "execution_count": null,
   "metadata": {},
   "outputs": [],
   "source": [
    "varname_dpsim = 'N7.V'\n",
    "varname_psat = 'V_Bus07'\n",
    "nominal_voltage = 13800\n",
    "plot_node_volt_abs(varname_dpsim, varname_psat, ts_dpsim_sp, ts_dpsim_dp, ts_psat, nominal_voltage, \"Voltage magnitude N7\", timestep_common=0.001)"
   ]
  },
  {
   "cell_type": "code",
   "execution_count": null,
   "metadata": {},
   "outputs": [],
   "source": [
    "varname_dpsim = 'N8.V'\n",
    "varname_psat = 'V_Bus08'\n",
    "nominal_voltage = 18000\n",
    "plot_node_volt_abs(varname_dpsim, varname_psat, ts_dpsim_sp, ts_dpsim_dp, ts_psat, nominal_voltage, \"Voltage magnitude N8\", timestep_common=0.001)"
   ]
  },
  {
   "cell_type": "code",
   "execution_count": null,
   "metadata": {},
   "outputs": [],
   "source": [
    "varname_dpsim = 'N9.V'\n",
    "varname_psat = 'V_Bus09'\n",
    "nominal_voltage = 13800\n",
    "plot_node_volt_abs(varname_dpsim, varname_psat, ts_dpsim_sp, ts_dpsim_dp, ts_psat, nominal_voltage, \"Voltage magnitude N9\", timestep_common=0.001)"
   ]
  },
  {
   "cell_type": "code",
   "execution_count": null,
   "metadata": {},
   "outputs": [],
   "source": [
    "varname_dpsim = 'N10.V'\n",
    "varname_psat = 'V_Bus10'\n",
    "nominal_voltage = 13800\n",
    "plot_node_volt_abs(varname_dpsim, varname_psat, ts_dpsim_sp, ts_dpsim_dp, ts_psat, nominal_voltage, \"Voltage magnitude N10\", timestep_common=0.001)"
   ]
  },
  {
   "cell_type": "code",
   "execution_count": null,
   "metadata": {},
   "outputs": [],
   "source": [
    "varname_dpsim = 'N11.V'\n",
    "varname_psat = 'V_Bus11'\n",
    "nominal_voltage = 13800\n",
    "plot_node_volt_abs(varname_dpsim, varname_psat, ts_dpsim_sp, ts_dpsim_dp, ts_psat, nominal_voltage, \"Voltage magnitude N11\", timestep_common=0.001)"
   ]
  },
  {
   "cell_type": "code",
   "execution_count": null,
   "metadata": {},
   "outputs": [],
   "source": [
    "varname_dpsim = 'N12.V'\n",
    "varname_psat = 'V_Bus12'\n",
    "nominal_voltage = 13800\n",
    "plot_node_volt_abs(varname_dpsim, varname_psat, ts_dpsim_sp, ts_dpsim_dp, ts_psat, nominal_voltage, \"Voltage magnitude N12\", timestep_common=0.001)"
   ]
  },
  {
   "cell_type": "code",
   "execution_count": null,
   "metadata": {},
   "outputs": [],
   "source": [
    "varname_dpsim = 'N13.V'\n",
    "varname_psat = 'V_Bus13'\n",
    "nominal_voltage = 13800\n",
    "plot_node_volt_abs(varname_dpsim, varname_psat, ts_dpsim_sp, ts_dpsim_dp, ts_psat, nominal_voltage, \"Voltage magnitude N13\", timestep_common=0.001)"
   ]
  },
  {
   "cell_type": "code",
   "execution_count": null,
   "metadata": {},
   "outputs": [],
   "source": [
    "varname_dpsim = 'N14.V'\n",
    "varname_psat = 'V_Bus14'\n",
    "nominal_voltage = 13800\n",
    "plot_node_volt_abs(varname_dpsim, varname_psat, ts_dpsim_sp, ts_dpsim_dp, ts_psat, nominal_voltage, \"Voltage magnitude N14\", timestep_common=0.001)"
   ]
  }
 ],
 "metadata": {
  "kernelspec": {
   "display_name": "Python 3",
   "language": "python",
   "name": "python3"
  },
  "language_info": {
   "codemirror_mode": {
    "name": "ipython",
    "version": 3
   },
   "file_extension": ".py",
   "mimetype": "text/x-python",
   "name": "python",
   "nbconvert_exporter": "python",
   "pygments_lexer": "ipython3",
   "version": "3.9.13"
  },
  "tests": {
   "skip": true
  },
  "vscode": {
   "interpreter": {
    "hash": "767d51c1340bd893661ea55ea3124f6de3c7a262a8b4abca0554b478b1e2ff90"
   }
  }
 },
 "nbformat": 4,
 "nbformat_minor": 4
}
